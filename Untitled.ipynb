{
 "cells": [
  {
   "cell_type": "code",
   "execution_count": 4,
   "metadata": {
    "collapsed": false
   },
   "outputs": [],
   "source": [
    "%matplotlib inline\n",
    "import numpy as np\n",
    "import matplotlib.pyplot as plt\n",
    "import pandas as pd\n",
    "\n",
    "\n",
    "# Running time of each algorithm (in milliseconds)\n",
    "alg_times = np.zeros((14,1))\n",
    "alg_times[0] = 163\n",
    "alg_times[1] = 163\n",
    "alg_times[2] = 190\n",
    "alg_times[3] = 190\n",
    "alg_times[4] = 206\n",
    "alg_times[5] = 206\n",
    "alg_times[6] = 120\n",
    "alg_times[7] = 120\n",
    "alg_times[8] = 83\n",
    "alg_times[9] = 83\n",
    "alg_times[10] = 83\n",
    "alg_times[11] = 83\n",
    "alg_times[12] = 170\n",
    "alg_times[13] = 170\n",
    "\n",
    "# Time constraint: The total duration of the algorithms cannot exceed 600 milliseconds\n",
    "alg_time_thr = 600\n",
    "\n",
    "\n",
    "# Compute the total computational time for the fusion algorithm\n",
    "def compute_total_time(M):\n",
    "    is_used = np.zeros((14,1))\n",
    "    for i in range(15):\n",
    "        for j in range(15):\n",
    "            if (M[i, j] != 0):\n",
    "                if (i >= 1):\n",
    "                    is_used[i - 1] = 1\n",
    "                if (j >= 1):\n",
    "                    is_used[j - 1] = 1\n",
    "\n",
    "    total_dur = np.dot(is_used.T, alg_times)\n",
    "    return total_dur[0, 0]\n",
    "\n",
    "\n",
    "# Evaluation metric\n",
    "def compute_eval(fused_score):\n",
    "    look_at_FAR = 0.0001\n",
    "    # calculating FAR and FRR\n",
    "    sort = np.argsort(fused_score[:,1])\n",
    "\n",
    "    #sort = np.concatenate([sort[-2:],sort[:-2]], axis=0)\n",
    "    scores = fused_score[sort]\n",
    "    totpos = sum(scores[:, 0])\n",
    "    totneg = scores.shape[0] - totpos\n",
    "    fa = (np.cumsum(scores[:, 0] - 1) + totneg) / totneg\n",
    "    fr = np.cumsum(scores[:, 0]) / totpos\n",
    "\n",
    "    i = 0\n",
    "    while fa[i] > look_at_FAR:\n",
    "        i += 1\n",
    "\n",
    "    return scores[i][1], fa[i], fr[i]"
   ]
  },
  {
   "cell_type": "code",
   "execution_count": 42,
   "metadata": {
    "collapsed": true
   },
   "outputs": [],
   "source": [
    "# Load the data\n",
    "\n",
    "train_fname = 'test_telecom.txt'\n",
    "train_data = np.loadtxt(train_fname, dtype=np.float) #The first column contains the labels, the rest of the columns contains the scores\n",
    "\n",
    "# Extract the labels\n",
    "y_trn = train_data[:,0].astype(int)\n",
    "\n",
    "# Extract the score vectors\n",
    "s_trn = train_data.copy()\n",
    "# Put a 1 in front of all the scores (see the \"Fusion method\" section above)\n",
    "#s_trn[:,0] = 1"
   ]
  },
  {
   "cell_type": "code",
   "execution_count": 43,
   "metadata": {
    "collapsed": false
   },
   "outputs": [
    {
     "data": {
      "text/plain": [
       "(100000, 15)"
      ]
     },
     "execution_count": 43,
     "metadata": {},
     "output_type": "execute_result"
    }
   ],
   "source": [
    "s_trn.shape"
   ]
  },
  {
   "cell_type": "code",
   "execution_count": 57,
   "metadata": {
    "collapsed": false
   },
   "outputs": [
    {
     "data": {
      "text/plain": [
       "array([ True,  True,  True, ...,  True,  True,  True], dtype=bool)"
      ]
     },
     "execution_count": 57,
     "metadata": {},
     "output_type": "execute_result"
    }
   ],
   "source": [
    "np.all(~np.isinf(s_trn), axis=1)"
   ]
  },
  {
   "cell_type": "code",
   "execution_count": 60,
   "metadata": {
    "collapsed": false,
    "scrolled": true
   },
   "outputs": [
    {
     "name": "stdout",
     "output_type": "stream",
     "text": [
      "100000\n",
      "99999\n"
     ]
    }
   ],
   "source": [
    "print(len(s_trn))\n",
    "s_trn_cleaned = s_trn[np.all(~np.isinf(s_trn), axis=1), :]\n",
    "print(len(s_trn_cleaned))"
   ]
  },
  {
   "cell_type": "code",
   "execution_count": 36,
   "metadata": {
    "collapsed": false
   },
   "outputs": [
    {
     "data": {
      "text/plain": [
       "array([  1.00000000e+00,   4.05664000e+03,   4.32906000e+03, ...,\n",
       "         1.85009000e+03,   2.54494000e+03,   2.80210000e+03])"
      ]
     },
     "execution_count": 36,
     "metadata": {},
     "output_type": "execute_result"
    }
   ],
   "source": [
    "s_trn"
   ]
  },
  {
   "cell_type": "code",
   "execution_count": 35,
   "metadata": {
    "collapsed": false
   },
   "outputs": [
    {
     "data": {
      "text/plain": [
       "(array([], dtype=int64),)"
      ]
     },
     "execution_count": 35,
     "metadata": {},
     "output_type": "execute_result"
    }
   ],
   "source": [
    "np.where(~np.isfinite(s_trn))"
   ]
  },
  {
   "cell_type": "code",
   "execution_count": 20,
   "metadata": {
    "collapsed": false
   },
   "outputs": [],
   "source": [
    "s_trn_cleaned = s_trn[np.where(np.isfinite(s_trn))]"
   ]
  },
  {
   "cell_type": "code",
   "execution_count": 22,
   "metadata": {
    "collapsed": false
   },
   "outputs": [
    {
     "data": {
      "text/plain": [
       "array([  1.00000000e+00,   4.05664000e+03,   4.32906000e+03, ...,\n",
       "         1.85009000e+03,   2.54494000e+03,   2.80210000e+03])"
      ]
     },
     "execution_count": 22,
     "metadata": {},
     "output_type": "execute_result"
    }
   ],
   "source": [
    "s_trn_cleaned"
   ]
  },
  {
   "cell_type": "code",
   "execution_count": 21,
   "metadata": {
    "collapsed": false
   },
   "outputs": [
    {
     "data": {
      "text/plain": [
       "(array([], dtype=int64),)"
      ]
     },
     "execution_count": 21,
     "metadata": {},
     "output_type": "execute_result"
    }
   ],
   "source": [
    "np.where(~np.isfinite(s_trn_cleaned))"
   ]
  },
  {
   "cell_type": "code",
   "execution_count": 5,
   "metadata": {
    "collapsed": false
   },
   "outputs": [
    {
     "name": "stdout",
     "output_type": "stream",
     "text": [
      "2048853\n"
     ]
    },
    {
     "data": {
      "text/plain": [
       "2048840"
      ]
     },
     "execution_count": 5,
     "metadata": {},
     "output_type": "execute_result"
    }
   ],
   "source": [
    "print(len(s_trn))\n",
    "df_train = pd.DataFrame(s_trn[:, 1:])\n",
    "df_train_cleaned = df_train.replace([np.inf, -np.inf], np.nan).dropna()\n",
    "len(df_train_cleaned)"
   ]
  },
  {
   "cell_type": "code",
   "execution_count": null,
   "metadata": {
    "collapsed": true
   },
   "outputs": [],
   "source": [
    "negative_train = s_trn[np.where(s_trn[:, 0] == 0.0)]\n",
    "positive_train = s_trn[np.where(s_trn[:, 0] == 1.0)]"
   ]
  },
  {
   "cell_type": "code",
   "execution_count": null,
   "metadata": {
    "collapsed": false
   },
   "outputs": [],
   "source": [
    "import seaborn as sns; \n",
    "sns.set(style=\"ticks\", color_codes=True)\n",
    "df_train = pd.DataFrame(df_train_cleaned)\n",
    "sns.pairplot(df_train)"
   ]
  },
  {
   "cell_type": "code",
   "execution_count": null,
   "metadata": {
    "collapsed": false
   },
   "outputs": [],
   "source": [
    "plt.figure(figsize=(16, 10))\n",
    "ax = plt.gca()\n",
    "ax.scatter(negative_train[:, 1], negative_train[:, 3], marker='o', label='negative')\n",
    "ax.scatter(positive_train[:, 1], positive_train[:, 3], marker='s', label='positive')\n",
    "plt.legend()"
   ]
  },
  {
   "cell_type": "code",
   "execution_count": null,
   "metadata": {
    "collapsed": false
   },
   "outputs": [],
   "source": [
    "\n",
    "\n",
    "res = positive_train.copy()\n",
    "res[:, 1:] = np.divide(positive_train[:, 1:], alg_times.T)\n",
    "res = np.sum(res, axis=0)\n",
    "\n",
    "res = pd.DataFrame(res[1:], columns=['total score'])\n",
    "res['index'] = res.index\n",
    "res['time'] = alg_times\n",
    "res"
   ]
  },
  {
   "cell_type": "code",
   "execution_count": null,
   "metadata": {
    "collapsed": false
   },
   "outputs": [],
   "source": [
    "#Prepare a fusion matrix\n",
    "M = np.zeros((15,15))\n",
    "\n",
    "#Example: the matrix will only average the first and the third algorithms:\n",
    "M[0, 1] = 0.5\n",
    "M[0, 3] = 0.5\n",
    " \n",
    "#Example: Make the fusion for the first image pair:\n",
    "cur_s = s_trn[0]\n",
    "cur_s_hat = np.dot(cur_s.T, np.dot(M, cur_s)) \n",
    "\n",
    "#Check if the time constraint is satisfied:\n",
    "\n",
    "tot_dur = compute_total_time(M)\n",
    "print(tot_dur)\n",
    "\n",
    "if (tot_dur <= alg_time_thr):\n",
    "    print(\"The total running time of the fusion is acceptable!\")\n",
    "else:\n",
    "    print(\"The total running time of the fusion is NOT acceptable!\")"
   ]
  },
  {
   "cell_type": "code",
   "execution_count": null,
   "metadata": {
    "collapsed": false
   },
   "outputs": [],
   "source": [
    "test = s_trn[:, None, :]\n",
    "print(s_trn.shape)\n",
    "print(test.shape)\n",
    "print(s_trn[0, :])\n",
    "print(test[0, :, :])"
   ]
  },
  {
   "cell_type": "code",
   "execution_count": null,
   "metadata": {
    "collapsed": false
   },
   "outputs": [],
   "source": [
    "#Evaluation\n",
    "\n",
    "#apply fusion on scores  \n",
    "fuse = np.multiply(s_trn[:len(s_trn) // 2, None, :] * \n",
    "                   s_trn[:len(s_trn) // 2, :, None], M)\n",
    "fuse = np.concatenate([np.reshape(y_trn[:len(s_trn) // 2], [-1, 1]), \n",
    "                       np.reshape(np.sum(fuse, axis=(1, 2)), [-1,1])],\n",
    "                      axis=1)\n",
    "fuse[np.isnan(fuse)] = -float(\"inf\")\n",
    "\n",
    "#compute the FRR at FAR = 0.01%\n",
    "thr, fa, fr = compute_eval(fuse)\n",
    "\n",
    "look_at_FAR = 0.0001\n",
    "print(\"Score at FAR=\" + str(look_at_FAR * 100.0) + \"%\")\n",
    "print(\"threshold :\" + str(thr) + \", far :\" + str(fa) + \", frr :\" + str(fr))"
   ]
  }
 ],
 "metadata": {
  "kernelspec": {
   "display_name": "MDI720",
   "language": "python",
   "name": "mdi720"
  },
  "language_info": {
   "codemirror_mode": {
    "name": "ipython",
    "version": 3
   },
   "file_extension": ".py",
   "mimetype": "text/x-python",
   "name": "python",
   "nbconvert_exporter": "python",
   "pygments_lexer": "ipython3",
   "version": "3.5.3"
  }
 },
 "nbformat": 4,
 "nbformat_minor": 2
}
